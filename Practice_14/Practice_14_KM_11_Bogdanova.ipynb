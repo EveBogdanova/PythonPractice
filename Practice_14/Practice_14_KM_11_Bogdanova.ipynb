{
  "cells": [
    {
      "cell_type": "markdown",
      "metadata": {
        "id": "FMqboNwO4rVs"
      },
      "source": [
        "# **Курс \"Програмування на мові Python\"**"
      ]
    },
    {
      "cell_type": "markdown",
      "metadata": {
        "id": "A2T6MigL5Z06"
      },
      "source": [
        "## **Практичне зайняття №14**\n",
        "\n",
        "### Тема: \"Робота зі спеціальними форматами файлів\""
      ]
    },
    {
      "cell_type": "markdown",
      "metadata": {
        "id": "A34oz70eU463"
      },
      "source": [
        "### **Завдання 1 (1,5 бали)**\n",
        "\n",
        "Створіть CSV-файл, що буде містити від 5 до 10 пісень (творів) вашого улюбленого музиканта. Назва файлу - ім'я музиканта (композитора) або назва гурту.\n",
        "\n",
        "1. Обов'язково додайте до файлу рядок з назвами двох колонок (Song, Year) або (Composition, Year).\n",
        "\n",
        "2. Після запису файлу роздрукуйте назву файлу та усі наявні у файлі рядки (включно із заголовками).\n",
        "\n",
        "3. Для запису та зчитування рядків скористайтесь функціями csv.DictWriter() та csv.DictReader()."
      ]
    },
    {
      "cell_type": "code",
      "execution_count": 1,
      "metadata": {
        "id": "MEJIrG1GU463"
      },
      "outputs": [
        {
          "name": "stdout",
          "output_type": "stream",
          "text": [
            "\n",
            "The file name is:  fav_rock.csv \n",
            "\n",
            "Dance with The Devil : 2006\n",
            "She Loves Me Not : 2002\n",
            "Enter The Sandman : 1991\n",
            "Seven Nation Army : 2003\n",
            "Somebody Told Me : 2004\n",
            "Throne : 2015\n",
            "Over The Hills and Far Away : 2001\n"
          ]
        }
      ],
      "source": [
        "import csv\n",
        "with open('fav_rock.csv','w',newline = '') as music:\n",
        "    w = csv.DictWriter(music,fieldnames = ['Song','Year'])\n",
        "    w.writeheader()\n",
        "    w.writerow({'Song':'Dance with The Devil',\n",
        "                'Year': '2006'})\n",
        "    w.writerow({'Song':'She Loves Me Not',\n",
        "                'Year': '2002'})\n",
        "    w.writerow({'Song':'Enter The Sandman',\n",
        "                'Year': '1991'})\n",
        "    w.writerow({'Song':'Seven Nation Army',\n",
        "                'Year': '2003'})\n",
        "    w.writerow({'Song':'Somebody Told Me',\n",
        "                'Year': '2004'})\n",
        "    w.writerow({'Song':'In The End',\n",
        "                'Year': '2001'})\n",
        "    w.writerow({'Song':'Over The Hills and Far Away',\n",
        "                'Year': '2001'})\n",
        "with open('fav_rock.csv') as music:\n",
        "    print('\\nThe file name is: ',music.name,'\\n')    \n",
        "    r = csv.DictReader(music)\n",
        "    for song in r:\n",
        "        print(song['Song'],':',song['Year'])"
      ]
    },
    {
      "cell_type": "markdown",
      "metadata": {
        "id": "Jb-eSBsWU464"
      },
      "source": [
        "### **Завдання 2 (1,5 бали)**\n",
        "\n",
        "COCO Dataset - набір фотографій та анотацій до них. Його дуже часто використовують для тренування класифікаторів, призначених для розпізнавання об'єктів та визначення ключових точок на зображеннях.\n",
        "\n",
        "Завантажте файли з описом фотографій COCO Dataset за посиланням: [COCO Dataset](http://images.cocodataset.org/annotations/image_info_test2017.zip).\n",
        "\n",
        "Відкрийте файл image_info_test-dev2017.json. Інформація про фотографії з бази COCO міститься у полі \"images\". Інформація про категорії, на які розділені всі фотографії, міститься у полі \"categories\".\n",
        "\n",
        "1. Визначте кількість фотографій, інформацію про які можна знайти у цьому файлі (кількість елементів, що відповідають ключу \"images\").\n",
        "\n",
        "2. Визначте кількість наявних категорій (кількість елементів, що відповідають ключу \"categories\").\n",
        "\n",
        "3. Виведіть посилання на фотографію 000000000001.jpg (\"coco_url\"). Також виведіть висоту цієї фотографії (\"height\"), ширину (\"width\") та її ідентифікатор (\"id\").\n",
        "\n",
        "4. Виведіть назву фотографії з набільшим номером.\n",
        "\n",
        "Опис структури JSON-файлу для набору фотографій COCO можна знайти за посиланням: [Data format](https://cocodataset.org/#format-data).\n",
        "\n",
        "Щоб перевірити правильність результатів, у VS Code встановіть розширення JSON та відкрийте файл image_info_test-dev2017.json. Розширення автоматично визначає кількість елементів у кожному полі."
      ]
    },
    {
      "cell_type": "code",
      "execution_count": 3,
      "metadata": {},
      "outputs": [
        {
          "name": "stdout",
          "output_type": "stream",
          "text": [
            "\n",
            "This file contains 20288 links to images from 80 categories\n",
            "\n",
            "URL:  http://images.cocodataset.org/test2017/000000000001.jpg \n",
            "Height:  480 \n",
            "Width:  640 \n",
            "ID:  1\n",
            "Name of an image with the biggest number:  000000581918.jpg\n"
          ]
        }
      ],
      "source": [
        "import json\n",
        "\n",
        "with open('image_info_test-dev2017.json','r') as j:\n",
        "    all = json.load(j)\n",
        "    l = all['images']\n",
        "    b = all['categories']\n",
        "    print(f'\\nThis file contains {len(l)} links to images from {len(b)} categories\\n')\n",
        "    filenames = []\n",
        "    for inf in l:\n",
        "        name = inf.get('file_name')\n",
        "        if name == \"000000000001.jpg\":\n",
        "            print('URL: ',inf.get('coco_url'),'\\nHeight: ',inf.get(\"height\"),'\\nWidth: ',inf.get(\"width\"),'\\nID: ',inf.get(\"id\"))\n",
        "        filenames.append(int(name.replace('.jpg','')))\n",
        "        max_number = max(filenames)\n",
        "        ind = filenames.index(max_number)\n",
        "    print('Name of an image with the biggest number: ',l[ind].get('file_name'))"
      ]
    }
  ],
  "metadata": {
    "colab": {
      "collapsed_sections": [],
      "name": "Practice_14_KM_01.ipynb",
      "provenance": []
    },
    "kernelspec": {
      "display_name": "Python 3",
      "name": "python3"
    },
    "language_info": {
      "codemirror_mode": {
        "name": "ipython",
        "version": 3
      },
      "file_extension": ".py",
      "mimetype": "text/x-python",
      "name": "python",
      "nbconvert_exporter": "python",
      "pygments_lexer": "ipython3",
      "version": "3.9.7"
    }
  },
  "nbformat": 4,
  "nbformat_minor": 0
}
