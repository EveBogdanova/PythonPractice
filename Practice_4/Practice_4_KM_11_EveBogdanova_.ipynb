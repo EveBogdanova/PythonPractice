{
  "nbformat": 4,
  "nbformat_minor": 2,
  "metadata": {
    "colab": {
      "name": "Pranctice_3_KM-01_<name>.ipynb",
      "provenance": [],
      "collapsed_sections": []
    },
    "kernelspec": {
      "name": "python3",
      "display_name": "Python 3.7.9 64-bit (system)"
    },
    "language_info": {
      "name": "python",
      "version": "3.7.9",
      "mimetype": "text/x-python",
      "codemirror_mode": {
        "name": "ipython",
        "version": 3
      },
      "pygments_lexer": "ipython3",
      "nbconvert_exporter": "python",
      "file_extension": ".py"
    },
    "interpreter": {
      "hash": "ed87af8f6d57bbc02e96884305447993a7e957ffb8264f0d79c55be29c3d9fba"
    }
  },
  "cells": [
    {
      "cell_type": "markdown",
      "source": [
        "# **Курс \"Програмування на мові Python\"**"
      ],
      "metadata": {
        "id": "1bRxWHr5e8kt"
      }
    },
    {
      "cell_type": "markdown",
      "source": [
        "## **Практичне зайняття №3**\n",
        "### Тема: \"Перші програми на Python. Введення та виведення даних. Інструкція if\""
      ],
      "metadata": {
        "id": "buZUwUgFe-kx"
      }
    },
    {
      "cell_type": "markdown",
      "source": [
        "### **Завдання 1 (1,5 бали)**\n",
        "\n"
      ],
      "metadata": {
        "id": "PUkxEn8EfAUe"
      }
    },
    {
      "cell_type": "markdown",
      "source": [
        "**Написати програму введення та виведення даних про одержувача листа (посилки) за стандартами Укрпошти.**\n",
        "\n",
        "1. Усі запити на введення даних повинні супроводжуватись відповідними підказками-поясненнями (бажано англійською мовою).\n",
        "\n",
        "2. Дані мають виводитись так, як показано нижче (з урахуванням кількості рядків та послідовності даних у кожному з них).\n",
        "\n",
        "3. Дані, виділені жирним шрифтом, повинні вводитись із клавіатури. Всього має бути 9 окремих команд введення даних\n",
        "\n",
        "4. Назви змінних повинні бути інформативними та оформленими відповідно до правил іменування змінних\n",
        "\n",
        "5. Додати 2 коментарі, що вказують на блоки введення та виведення даних.\n",
        "\n",
        "***Формат виведення даних:***\n",
        "\n",
        "(1) **Ім'я** (2) **Прізвище**\n",
        "\n",
        "(3) **Номер телефону**\n",
        "\n",
        "Str. (4) **Назва вулиці** (5) **Номер будинку**, ap. (6) **Номер квартири**, (7) **Місто**\n",
        "\n",
        "(8) **Індекс**\n",
        "\n",
        "(9) **Країна**\n",
        "\n",
        "***Приклад виведення:***\n",
        "\n",
        "*Lucas Diallo*\n",
        "\n",
        "*3221234567*\n",
        "\n",
        "*Str. Longue 3, ap. 5, Bruxelles*\n",
        "\n",
        "*1020*\n",
        "\n",
        "*Belgium*"
      ],
      "metadata": {
        "id": "M7jjwxAvfKa2"
      }
    },
    {
      "cell_type": "code",
      "execution_count": 6,
      "source": [
        "#блоки введення персональних даних\r\n",
        "name = str(input('Enter your name:'))\r\n",
        "surname = str(input('Enter your surname:'))\r\n",
        "phone = input('Your phone number:')\r\n",
        "\r\n",
        "#коментар-інструкція\r\n",
        "print('Please, enter your address:')\r\n",
        "\r\n",
        "#блок введення даних про місцепроживання\r\n",
        "street = input('Str.')\r\n",
        "house = input('House number:')\r\n",
        "flat = input('Flat number:')\r\n",
        "city = str(input('City:'))\r\n",
        "code = input('Postal code:')\r\n",
        "country = str(input('Country:'))\r\n",
        "tab = \"\\n\"\r\n",
        "print(tab, name, surname, tab, phone, tab, 'Str.', street, house,',', 'ap.', flat,',', city, tab, code, tab, country)"
      ],
      "outputs": [
        {
          "output_type": "stream",
          "name": "stdout",
          "text": [
            "Please, enter your address:\n",
            "\n",
            " Eve Bogdanova \n",
            " 0993103795 \n",
            " Str. Lomonosova 24 , ap. 20 , Kiev \n",
            " 08138 \n",
            " Ukraine\n"
          ]
        }
      ],
      "metadata": {}
    },
    {
      "cell_type": "markdown",
      "source": [
        "### **Завдання 2 (1,5 бали)**"
      ],
      "metadata": {
        "id": "WmnpKrmPf689"
      }
    },
    {
      "cell_type": "markdown",
      "source": [
        "Таблиця містить магнітуду землетрусів за шкалою Ріхтера та дескриптори, що їй відповідають.\n",
        "\n",
        "Магнітуда | Дескриптор\n",
        "--- | ---\n",
        "Менше, ніж 2 | Micro\n",
        "Від 2 до менше ніж 3 | Very minor\n",
        "Від 3 до менше ніж 4 | Minor\n",
        "Від 4 до менше ніж 5 | Light\n",
        "Від 5 до менше ніж 6 | Moderate\n",
        "Від 6 до менше ніж 7 | Strong\n",
        "Від 7 до менше ніж 8 | Major\n",
        "Від 8 до менше ніж 10 | Great\n",
        "10 та більше | Meteoric\n",
        "\n",
        "Напишіть програму, яка буде зчитувати магнітуду, введену користувачем, та виводити відповідний дескриптор як частину змістовного повідомлення. Наприклад, якщо користувач вводить 5.5, ваша програма повинна показати, що землетрус з такою магнітудою є помірним (moderate)."
      ],
      "metadata": {
        "id": "4n4p_pz7gFKM"
      }
    },
    {
      "cell_type": "code",
      "execution_count": 7,
      "source": [
        "m = float(input('Magnitude scale:'))\r\n",
        "\r\n",
        "if m < 2:\r\n",
        "    print('Earthquake energy: micro')\r\n",
        "elif m >= 2 and m < 3:\r\n",
        "    print('Earthquake energy: very minor')\r\n",
        "elif m >=3 and m < 4:\r\n",
        "    print('Earthquake energy: minor')\r\n",
        "elif m >=4 and m < 5:\r\n",
        "    print('Earthquake energy: light')\r\n",
        "elif m >= 5 and m < 6:\r\n",
        "    print('Earthquake energy: moderate')\r\n",
        "elif m >= 6 and m < 7:\r\n",
        "    print('Earthquake energy: strong')\r\n",
        "elif m >= 7 and m < 8:\r\n",
        "    print('Earthquake energy: major')\r\n",
        "elif m >= 8 and m < 10:\r\n",
        "    print('Earthquake energy: great')\r\n",
        "else:\r\n",
        "    print('Earthquake energy: meteoric')"
      ],
      "outputs": [
        {
          "output_type": "stream",
          "name": "stdout",
          "text": [
            "Earthquake energy: moderate\n"
          ]
        }
      ],
      "metadata": {
        "id": "Nv66Jkkpf-sI"
      }
    },
    {
      "cell_type": "markdown",
      "source": [
        "### **Завдання 3 (бонусне, 1 бал)**"
      ],
      "metadata": {
        "id": "X8fC_GM_nMRi"
      }
    },
    {
      "cell_type": "markdown",
      "source": [
        "Часто говорять, що один календарний рік еквівалентний 7 рокам для собаки. Однак таке просте перетворення не враховує того, що собаки досягають повноліття приблизно у 2 роки. Тому деякі люди вважать, що краще рахувати кожен з перших двох календарних років як 10,5 років для собаки, а потім рахувати кожен наступний календарний рік як 4 роки для собаки.\n",
        "\n",
        "Напишіть програму, яка конвертує календарні роки у \"собачі\", як було показано в попередньому абзаці. Переконайтесь, що ваша програма працює правильно, конвертуючи перші два календарні роки та всі подальші. Ваша програма також повинна виводити повідомлення про помилку, якщо користувач введе від'ємне число."
      ],
      "metadata": {
        "id": "b593txPwotgN"
      }
    },
    {
      "cell_type": "code",
      "execution_count": 8,
      "source": [
        "print('Human years to dog years converter')\r\n",
        "years = float(input('Human years: '))\r\n",
        "if years > 0 and years <= 2:\r\n",
        "    print('Dog years:', years*10.5, sep = ' ')\r\n",
        "elif years > 2:\r\n",
        "    m = years - 2\r\n",
        "    print('Dog years:',m*4 + 2*10.5, sep = ' ')\r\n",
        "elif years < 0:\r\n",
        "    print('Your dog has not been born yet, has it?')    "
      ],
      "outputs": [
        {
          "output_type": "stream",
          "name": "stdout",
          "text": [
            "Human years to dog years converter\n",
            "Dog years: 37.0\n"
          ]
        }
      ],
      "metadata": {
        "id": "PA_E_H0Zosu0"
      }
    }
  ]
}