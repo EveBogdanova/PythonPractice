{
  "cells": [
    {
      "cell_type": "markdown",
      "metadata": {
        "id": "FMqboNwO4rVs"
      },
      "source": [
        "# **Курс \"Програмування на мові Python\"**"
      ]
    },
    {
      "cell_type": "markdown",
      "metadata": {
        "id": "A2T6MigL5Z06"
      },
      "source": [
        "## **Практичне зайняття №13**\n",
        "\n",
        "### Тема: \"Робота з файлами\""
      ]
    },
    {
      "cell_type": "markdown",
      "metadata": {
        "id": "cfCdgK2zXm7e"
      },
      "source": [
        "### **Завдання 1 (1,5 бали)**\n",
        "\n",
        "У 1939 році друком вийшов роман американського письменика Ернеста Вінсента Райта \"Ґетсбі\". Особливу увагу публіки він здобув через те, що письменник жодного разу не використав у романі літеру \"e\" (роман складається з більше ніж 50,000 слів), яка є найбільш вживаною літерою в англійській мові.\n",
        "\n",
        "Порахуйте кількість входжень кожної літери у текст роману. Виведіть список літер англійського алфавіту, а також інформацію про те, скільки відсотків від усіх літер тексту складає кожна літера алфавіту.\n",
        "\n",
        "Зауваження:\n",
        "\n",
        "1. Програма має ігнорувати будь-які символи, окрім літер.\n",
        "\n",
        "2. Переведіть усі літери у верхній або у нижній регістр.\n",
        "\n",
        "3. Під час виведення відсортуйте літери у порядку зменшення їхнього відсотка. Літера \"e\" має стояти на останньому місці у цьому списку (хоча кілька літер e там все ж таки зустрічається).\n",
        "\n",
        "4. Виведіть перші 5 та останні 5 літер відсортованого списку разом з відсотковими значеннями, що їм відповідають. Відсотки округліть до тисячних."
      ]
    },
    {
      "cell_type": "code",
      "execution_count": 3,
      "metadata": {
        "id": "u4-fHJJ6U462",
        "tags": [
          "outputPrepend"
        ]
      },
      "outputs": [
        {
          "name": "stdout",
          "output_type": "stream",
          "text": [
            "The letter E occurs in Gadsby 4 times. It is 0.002 %\n",
            "The letter Q occurs in Gadsby 109 times. It is 0.051 %\n",
            "The letter X occurs in Gadsby 168 times. It is 0.079 %\n",
            "The letter Z occurs in Gadsby 228 times. It is 0.107 %\n",
            "The letter J occurs in Gadsby 487 times. It is 0.23 %\n",
            "The letter T occurs in Gadsby 18017 times. It is 8.494 %\n",
            "The letter N occurs in Gadsby 18236 times. It is 8.597 %\n",
            "The letter I occurs in Gadsby 18720 times. It is 8.826 %\n",
            "The letter O occurs in Gadsby 22100 times. It is 10.419 %\n",
            "The letter A occurs in Gadsby 23230 times. It is 10.952 %\n"
          ]
        }
      ],
      "source": [
        "\n",
        "WORDLIST_FILENAME = \"gadsby.txt\"\n",
        "with open(WORDLIST_FILENAME, 'r') as f:\n",
        "    f.seek(6004,0)\n",
        "    text = f.read()\n",
        "    import re\n",
        "    new_text = re.sub(r\"[^a-zA-Z]+\",'',text)\n",
        "    new_text = new_text.upper()\n",
        "    all_letters = ['A','B','C','D','E','F','G','H','I','J','K','L','M','N','O','P','Q','R','S','T','U','V','W','X','Y','Z']\n",
        "    times = []   \n",
        "    for letter in all_letters:\n",
        "        ind = all_letters.index(letter)\n",
        "        counter = new_text.count(letter)\n",
        "        times.insert(ind,int(counter))\n",
        "    sorted_numbers = sorted(times)\n",
        "    sorted_letters = []\n",
        "    for number in sorted_numbers:\n",
        "        number_index = times.index(number)\n",
        "        sorted_letters.append(all_letters[number_index])\n",
        "    all_summ = sum(times) \n",
        "    for i in range(5):    \n",
        "        print(f'The letter {sorted_letters[i]} occurs in Gadsby {sorted_numbers[i]} times. It is',f'{round((sorted_numbers[i]*100/all_summ),3)} %')\n",
        "    for j in range(-5,0):    \n",
        "        print(f'The letter {sorted_letters[j]} occurs in Gadsby {sorted_numbers[j]} times. It is',f'{round((sorted_numbers[j]*100/all_summ),3)} %')"
      ]
    },
    {
      "cell_type": "markdown",
      "metadata": {
        "id": "A34oz70eU463"
      },
      "source": [
        "### **Завдання 2 (1,5 бали)**\n",
        "\n",
        "Архів archive.zip містить 140 txt-файлів, в яких збережено інфорамцію про те, якими іменами називали дітей у США в період з 1880 по 2019 рік.\n",
        "\n",
        "Структура рядка кожного файлу така:\n",
        "\n",
        "*name,sex,number_of_occurrences*\n",
        "\n",
        "Напишіть програму, яка зчитуватиме кожен файл та визначатиме окремо чоловічі, окремо жіночі імена, що були найпопулярнішими хоча б в один з років. Далі програма повинна підраховувати, скільки разів кожне з цих імен ставало найпопулярнишим, та виводити ранжовані списки чоловічіх та жіночих імен у вигляді:\n",
        "\n",
        "```\n",
        "Michael 44\n",
        "John 44\n",
        "Robert 17\n",
        "...\n",
        "\n",
        "Mary 76\n",
        "Jennifer 15\n",
        "Emily 12\n",
        "...\n",
        "```"
      ]
    },
    {
      "cell_type": "code",
      "execution_count": 6,
      "metadata": {},
      "outputs": [
        {
          "name": "stdout",
          "output_type": "stream",
          "text": [
            "Male name David has become most popular 1 times\n",
            "Male name Noah has become most popular 4 times\n",
            "Male name Michael has become most popular 44 times\n",
            "Male name Robert has become most popular 17 times\n",
            "Male name James has become most popular 13 times\n",
            "Male name Liam has become most popular 3 times\n",
            "Male name John has become most popular 44 times\n",
            "Male name Jacob has become most popular 14 times\n",
            "Female name Linda has become most popular 6 times\n",
            "Female name Emily has become most popular 12 times\n",
            "Female name Isabella has become most popular 2 times\n",
            "Female name Lisa has become most popular 8 times\n",
            "Female name Olivia has become most popular 1 times\n",
            "Female name Sophia has become most popular 3 times\n",
            "Female name Emma has become most popular 6 times\n",
            "Female name Mary has become most popular 76 times\n",
            "Female name Jessica has become most popular 9 times\n",
            "Female name Jennifer has become most popular 15 times\n",
            "Female name Ashley has become most popular 2 times\n"
          ]
        }
      ],
      "source": [
        "import re\n",
        "top_female = []\n",
        "top_male = []\n",
        "for i in range(1880,2020):\n",
        "    WORDLIST_FILENAME = \"yob\"f\"{i}\"\".txt\"\n",
        "    with open(WORDLIST_FILENAME, 'r') as f:\n",
        "        text = f.read()\n",
        "        namelist = text.split()\n",
        "        female_names = []\n",
        "        times_female = []\n",
        "        male_names = []\n",
        "        times_male = []\n",
        "        for name in namelist:\n",
        "            if ',F,' in name:\n",
        "                name = name.replace(',F,','')\n",
        "                new_name = re.sub(r\"[0-9]*$\",'',name)\n",
        "                female_names.append(new_name)\n",
        "                year = ''.join(filter(str.isdigit,name))\n",
        "                times_female.append(int(year))\n",
        "            if ',M,' in name:\n",
        "                name = name.replace(',M,','')\n",
        "                new_name = re.sub(r\"[0-9]*$\",'',name)\n",
        "                male_names.append(new_name)\n",
        "                year = ''.join(filter(str.isdigit,name))\n",
        "                times_male.append(int(year))\n",
        "    top_male.append(male_names[0])\n",
        "    top_female.append(female_names[0])\n",
        "    males = set(top_male)\n",
        "    females = set(top_female) \n",
        "    total_male = []\n",
        "    total_female = []\n",
        "for male in males:\n",
        "    total_male.append(male)\n",
        "for name in total_male:\n",
        "    total = top_male.count(name)\n",
        "    print('Male name', name,'has become most popular' ,total,'times')     \n",
        "for female in females:\n",
        "    total_female.append(female)\n",
        "for name in total_female:\n",
        "    total = top_female.count(name)\n",
        "    print('Female name', name,'has become most popular' ,total,'times')              \n"
      ]
    }
  ],
  "metadata": {
    "colab": {
      "collapsed_sections": [],
      "name": "Practice_14_KM_01.ipynb",
      "provenance": []
    },
    "kernelspec": {
      "display_name": "Python 3",
      "name": "python3"
    },
    "language_info": {
      "codemirror_mode": {
        "name": "ipython",
        "version": 3
      },
      "file_extension": ".py",
      "mimetype": "text/x-python",
      "name": "python",
      "nbconvert_exporter": "python",
      "pygments_lexer": "ipython3",
      "version": "3.9.7"
    }
  },
  "nbformat": 4,
  "nbformat_minor": 0
}
