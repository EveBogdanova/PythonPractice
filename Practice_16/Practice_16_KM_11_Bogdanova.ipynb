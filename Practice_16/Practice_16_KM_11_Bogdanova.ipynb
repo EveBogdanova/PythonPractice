{
  "cells": [
    {
      "cell_type": "markdown",
      "metadata": {
        "id": "FMqboNwO4rVs"
      },
      "source": [
        "# **Курс \"Програмування на мові Python\"**"
      ]
    },
    {
      "cell_type": "markdown",
      "metadata": {
        "id": "A2T6MigL5Z06"
      },
      "source": [
        "## **Практичне зайняття №16**\n",
        "\n",
        "### Тема: \"Декоратори\""
      ]
    },
    {
      "cell_type": "markdown",
      "metadata": {},
      "source": [
        "### **Завдання 1 (1,5 бали)**\n",
        "\n",
        "Реалізуйте підрахунок площі трикутника з використанням декоратора, який перевірятиме можливість побудови трикутника з трьох введених користувачем сторін.\n",
        "\n",
        "1. Напишіть функцію area_calculation, яка підраховуватиме площу трикутника за трьома сторонами. Для підрахунку можете скористатись формулою Герона.\n",
        "\n",
        "2. Напишіть функцію check, яка перевірятиме правильність введених користувачем значень (значення мають бути додатними числами, не обов'язково цілими).\n",
        "\n",
        "3. Створіть декоратор triangle_ineq, який перевірятиме виконання нерівності трикутрика для трьох заданих користувачем сторін. Навісьте декоратор triangle_ineq на функція area_calculation та перевірте правильність роботи програми."
      ]
    },
    {
      "cell_type": "code",
      "execution_count": 11,
      "metadata": {
        "id": "yiRr2CqMWxLA"
      },
      "outputs": [
        {
          "name": "stdout",
          "output_type": "stream",
          "text": [
            "The side number 1 is 3\n",
            "The side number 2 is 4\n",
            "The side number 3 is 5\n",
            "\n",
            "The area value for your triangle is: 6.0\n",
            " \n",
            "-----------------------------\n",
            "The side number 1 is 12.5\n",
            "The side number 2 is 25\n",
            "The side c is: 8\n",
            "The side 2 is greater than sum of other sides\n",
            "\n",
            "This triangle cannot be built\n",
            " \n",
            "-----------------------------\n",
            "The length should be a positive number\n",
            "The side number 2 is 12\n",
            "The side number 3 is 1\n",
            "\n",
            "This triangle doesn't exist\n",
            " \n",
            "-----------------------------\n"
          ]
        }
      ],
      "source": [
        "def triangle_ineq(f):\n",
        "    def unequality(*args, **kwargs):\n",
        "        count=0\n",
        "        for i in range(len(args)):\n",
        "            sides = list(args).copy()\n",
        "            sides2 = list(kwargs.values()).copy()\n",
        "            sides.remove(sides[i])\n",
        "            all = sides+sides2\n",
        "            if args[i] < sum(all):\n",
        "                count+=1\n",
        "            else:\n",
        "                print(f'The side {i+1} is greater than sum of other sides')    \n",
        "        for k,v in kwargs.items():\n",
        "            sides = list(args).copy()\n",
        "            sides2 = list(kwargs.values()).copy()\n",
        "            sides2.remove(v)\n",
        "            all = sides+sides2\n",
        "            all = sides+sides2\n",
        "            if v < sum(all):\n",
        "                count+=1\n",
        "            else:\n",
        "                print(f'The side with name {k} is greater than sum of other sides')        \n",
        "        if count==3:\n",
        "            res = f(*args, **kwargs)\n",
        "            print(f'\\nThe area value for your triangle is: {res}')\n",
        "            return ''\n",
        "        else:\n",
        "            print(\"\\nThis triangle cannot be built\")  \n",
        "            return ''  \n",
        "    return unequality\n",
        "\n",
        "def check(f):\n",
        "    def valid(*args, **kwargs):\n",
        "        a=0\n",
        "        for i in range(len(args)):\n",
        "            if (type(args[i]) == int or type(args[i]) == float) and args[i] > 0:\n",
        "                print(f'The side number {i+1} is {args[i]}')\n",
        "                a+=1\n",
        "            else:\n",
        "                print('The length should be a positive number')    \n",
        "        for k,v in kwargs.items():\n",
        "            if (type(v) == int or type(v) == float) and v > 0:\n",
        "                print(f'The side {k} is: {v}')\n",
        "                a+=1\n",
        "            else:\n",
        "                print('The length should be a positive number')        \n",
        "        if a==3:\n",
        "            res = f(*args, **kwargs)\n",
        "            return ''\n",
        "        else:\n",
        "            print(\"\\nThis triangle doesn't exist\")  \n",
        "            return ''  \n",
        "    return valid\n",
        "\n",
        "@check\n",
        "@triangle_ineq\n",
        "def area_calculation(a,b,c):\n",
        "    p = (a+b+c)/2\n",
        "    S = (p*(p-a)*(p-b)*(p-c))**0.5\n",
        "    return S\n",
        "\n",
        "print(area_calculation(3,4,5),'\\n-----------------------------') \n",
        "print(area_calculation(12.5,25,c=8),'\\n-----------------------------')\n",
        "print(area_calculation(-2,12,1),'\\n-----------------------------')    \n",
        "       \n",
        "    "
      ]
    },
    {
      "cell_type": "markdown",
      "metadata": {},
      "source": [
        "### **Завдання 2 (1,5 бали)**\n",
        "\n",
        "Більшість друкованих книг (особливо це стосується книг у твердій палітурці) складаються із зошитів. Припустимо, що в друкарні текст друкується на листах паперу удвічі більших за звичайний книжковий формат. Потім ці листи складаються вдвічі, з них формуються зошити, які потім зшиваються у блок.\n",
        "\n",
        "Розглянемо конкретний приклад.\n",
        "\n",
        "Припустимо, що кожен зшитий зошит нашої книги складається з 8 листів (16 сторінок). Якщо уявити великі листи, з яких потім складаються зошити, то на кожному таком листі буде по 4 сторінки книги. У нашій книзі таких великих листів буде 4. Розглянемо перший лист. З одного боку на ньому будуть надруковані сторінки 16 та 1, з іншого - 2 та 15. На другому листі з одного боку будуть надруковані сторінки 14 та 3, з іншого - 4 та 13.\n",
        "\n",
        "**Написати програму, яка визначатиме послідовність сторінок, що будуть надруковані на кожному великому листі.**\n",
        "\n",
        "1. Користувач має вводити з клавіатури кількість сторінок у книзі (не більше 1280).\n",
        "\n",
        "2. Зверніть увагу на те, що загальна кількість сторінок у книзі має бути кратною кількості сторінок у зошиті. Якщо користувач введе число, що не задовольняє цій умові, програма повинна запропонувати користувачеві ввесте інше значення.\n",
        "\n",
        "3. Зверніть увагу на те, що на великих листах поворот аркуша відбувається за коротким краєм. Отже, якщо з одного боку аркуша надруковано сторінки 16 та 1, то з іншого 2 та 15 (а не 15, 2), якщо дивитись зліва направо.\n",
        "\n",
        "4. Функція, яка визначатиме послідовність книжкових сторінок, має виводити на екран рядок за рядком номери сторінок кожного зошита, а також кількість зошитів у книзі.\n",
        "\n",
        "5. Створіть декоратор з параметром, що прийматиме на вхід аргументи False або True, та навісьте цей декоратор на попередню функцію. Якщо параметр дорівнює False, додаткові функції декоратора не повинні виконуватись, тобто має виконатись лише функція з п. 4. Якщо параметр дорівнює True, декоратор повинен створювати список усіх сторінок у потрібній послідовності та роздруковувати його. Номери сторінок кожного зошита мають зберігатись в окремому вкладеному списку. Для 16-сторінкового зошита список повинен мати вигляд:\n",
        "\n",
        "`[[16, 1, 2, 15, 14, 3, 4, 13, ..., 10, 7, 8, 9], [32, 17, 18, 31, ...], ... ]`\n",
        "\n",
        "**Бонусне завдання (за бажанням)**\n",
        "\n",
        "6. Замість функції з п. 4 створіть генератор, який буде визначати послідовність книжкових сторінок для кожного зошита. Ці рядки можна потім вивести або у циклі, або за допомогою функції next(). Функція-декоратор має працювати з цим генератором так само, як і зі звичайною функцією."
      ]
    },
    {
      "cell_type": "code",
      "execution_count": 4,
      "metadata": {},
      "outputs": [
        {
          "name": "stdout",
          "output_type": "stream",
          "text": [
            "\n",
            "Кількість зошитів у книзі: 5\n",
            "\n",
            "Сторінки зошита номер 1: 16, 1, 2, 15, 14, 3, 4, 13, 12, 5, 6, 11, 10, 7, 8, 9\n",
            "\n",
            "Сторінки зошита номер 2: 32, 17, 18, 31, 30, 19, 20, 29, 28, 21, 22, 27, 26, 23, 24, 25\n",
            "\n",
            "Сторінки зошита номер 3: 48, 33, 34, 47, 46, 35, 36, 45, 44, 37, 38, 43, 42, 39, 40, 41\n",
            "\n",
            "Сторінки зошита номер 4: 64, 49, 50, 63, 62, 51, 52, 61, 60, 53, 54, 59, 58, 55, 56, 57\n",
            "\n",
            "Сторінки зошита номер 5: 80, 65, 66, 79, 78, 67, 68, 77, 76, 69, 70, 75, 74, 71, 72, 73\n",
            "\n",
            "The end of your book\n"
          ]
        }
      ],
      "source": [
        "def decorating(func):\n",
        "    def check():\n",
        "        choose = True\n",
        "        while choose == True:\n",
        "            try:\n",
        "                pages = int(input(\"\\nВведіть кількість сторінок в вашій книзі: \"))\n",
        "                if pages%16 != 0:\n",
        "                    print('Кількість сторінок визначається цілим додатним числом')\n",
        "                    continue\n",
        "                elif pages>1280:\n",
        "                    print('Рекомендація: кількість сторінок в книзі має не перевищувати 1280 сторінок')\n",
        "                    continue\n",
        "                else:\n",
        "                    print(f'\\nКількість зошитів у книзі: {int(pages/16)}')\n",
        "                    notebook = func(pages)\n",
        "                    for number in range(int(pages/16)):\n",
        "                        print(f'\\nСторінки зошита номер {number+1}: {next(notebook)}')\n",
        "                        choose = False\n",
        "            except ValueError:\n",
        "                print(\"Кількість сторінок в книзі введена некоректно\")\n",
        "                continue    \n",
        "        return '\\nThe end of your book'\n",
        "    return check\n",
        "\n",
        "@decorating\n",
        "def pages_sequence(n=0):\n",
        "    notebook_number = int(n/16)\n",
        "    for notebook in range(1, notebook_number+1):\n",
        "        end = int(16*(notebook))\n",
        "        if notebook == 1:\n",
        "            start = 1\n",
        "        else:\n",
        "            start = int(16*(notebook-1)) + 1\n",
        "        sequence = []\n",
        "        for i in range(0,8,2):\n",
        "            sequence+=[str(end-i),str(start+i)]\n",
        "            sequence+=[str(start+i+1),str(end-i-1)]       \n",
        "        yield ', '.join(sequence)\n",
        "\n",
        "print(pages_sequence())        \n"
      ]
    }
  ],
  "metadata": {
    "colab": {
      "collapsed_sections": [],
      "name": "Practice_10-11_KM_01_.ipynb",
      "provenance": []
    },
    "kernelspec": {
      "display_name": "Python 3",
      "name": "python3"
    },
    "language_info": {
      "codemirror_mode": {
        "name": "ipython",
        "version": 3
      },
      "file_extension": ".py",
      "mimetype": "text/x-python",
      "name": "python",
      "nbconvert_exporter": "python",
      "pygments_lexer": "ipython3",
      "version": "3.9.7"
    }
  },
  "nbformat": 4,
  "nbformat_minor": 0
}
