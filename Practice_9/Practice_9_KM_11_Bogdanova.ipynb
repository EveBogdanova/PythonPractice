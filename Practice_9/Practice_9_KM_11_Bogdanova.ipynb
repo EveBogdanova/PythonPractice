{
  "cells": [
    {
      "cell_type": "markdown",
      "metadata": {
        "id": "FMqboNwO4rVs"
      },
      "source": [
        "# **Курс \"Програмування на мові Python\"**"
      ]
    },
    {
      "cell_type": "markdown",
      "metadata": {
        "id": "A2T6MigL5Z06"
      },
      "source": [
        "## **Практичне зайняття №9**\n",
        "\n",
        "### Тема: \"Робота з функціями. Локальні та глобальні змінні\""
      ]
    },
    {
      "cell_type": "markdown",
      "metadata": {
        "id": "cfCdgK2zXm7e"
      },
      "source": [
        "### **Завдання 1 (3 бали)**\n",
        "\n",
        "**Підрахувати визначник матриці, використовуючи правило перестановок.**\n",
        "\n",
        "Функція random_matrix() призначена для створення квадратної матриці випадкових чисел. Її змінювати непотрібно.\n",
        "\n",
        "Приклад використання методу permutations() для створення списку перестановок також подається у комірці з кодом.\n",
        "\n",
        "1) Створити 3 функції: функцію створення списку перестановок, функцію підрахунку добутків та функцію підрахунку загальної суми.\n",
        "\n",
        "2) Кожна функція має супроводжуватись рядком документації, що буде коротко описувати її призначення.\n",
        "\n",
        "3) Розмірність квадратної матриці має вводитись користувачем з клавіатури. Підрахунки виконувати лише в тому разі, якщо користувач введе ціле додатне число.\n",
        "\n",
        "4) Загальний результат повинен підраховуватись за допомогою композиції функцій.\n",
        "\n",
        "За бажанням можна перевірити правильність роботи програми за допомогою функції np.linalg.det(a)."
      ]
    },
    {
      "cell_type": "code",
      "execution_count": 2,
      "metadata": {
        "id": "ifNX2M7LXm7f"
      },
      "outputs": [
        {
          "name": "stdout",
          "output_type": "stream",
          "text": [
            "[[0 1 9]\n",
            " [3 9 2]\n",
            " [0 6 1]]\n",
            "\n",
            "The determinant value:  159\n"
          ]
        }
      ],
      "source": [
        "import numpy as np\n",
        "import itertools\n",
        "\n",
        "def random_matrix(dim):\n",
        "    \"\"\"\n",
        "    The function generates dim x dim array of integers\n",
        "    between 0 and 10.\n",
        "    User can choose the dimension of matrix by himself (herself).\n",
        "    \"\"\"\n",
        "    matrix = np.random.randint(10, size = (dim, dim))\n",
        "    return matrix\n",
        "a = int(input('Size: '))\n",
        "the_matrix = random_matrix(a)\n",
        "print(the_matrix)\n",
        "\n",
        "def permutations(str):\n",
        "    \"\"\"\n",
        "    The function creates the list of permutations for each string of the matrix.\n",
        "    The number of the permutations equals n! (n-factorial), where n is a number of characters in each string.\n",
        "    \"\"\"\n",
        "    ind = []\n",
        "    for i in range(0,a):\n",
        "        ind.append(i)\n",
        "    k = list(itertools.permutations(ind, a))\n",
        "    return k     \n",
        "perm_res = permutations(the_matrix)    \n",
        "\n",
        "def multiplex(mult):\n",
        "    \"\"\"\n",
        "    The function creates the result list of product for elements with relevant indices.\n",
        "    Element indices are selected according to the rule of permutations.\n",
        "    \"\"\"\n",
        "    mult_list = []\n",
        "    total = []\n",
        "    mult_res = []\n",
        "    N_list = []\n",
        "    N_res = []\n",
        "    l = 0\n",
        "    for z in range(0,len(perm_res)):\n",
        "        for y in range(0,a):    \n",
        "            el = mult[y][perm_res[z][y]]\n",
        "            mult_list.append(el)\n",
        "    mult_res.append(mult_list[a:len(mult_list)-a])\n",
        "    mult_res[0].reverse()\n",
        "    mult_res.insert(0, mult_list[0:a])\n",
        "    mult_res.insert(a, mult_list[len(mult_list)-a:len(mult_list)])\n",
        "    final_list = [item for sub_list in mult_res for item in sub_list]  \n",
        "    while l < len(final_list):    \n",
        "        resul = np.prod(np.array(final_list[l:l+a]))\n",
        "        total.append(resul)\n",
        "        l += a \n",
        "    for coeff in perm_res:\n",
        "        N = 0\n",
        "        for c, d in itertools.combinations(coeff, 2):\n",
        "            if c > d: \n",
        "                N += 1\n",
        "        N_list.append(N)  \n",
        "    N_res.append(N_list[1:len(total)-1])\n",
        "    start = []\n",
        "    start.append(N_list[len(total)-1])\n",
        "    end = []\n",
        "    end.append(N_list[0])\n",
        "    N_res.insert(0,start)\n",
        "    N_res.insert(len(total)-1,end)\n",
        "    final_coeff_list = [item2 for sub_list2 in N_res for item2 in sub_list2] \n",
        "    final_coeff_list.reverse()     \n",
        "    det_mult = list(map(lambda el1,el2: el1*(-1)**el2, total,final_coeff_list))    \n",
        "    return det_mult\n",
        "\n",
        "def summ(det):\n",
        "    \"\"\"\n",
        "    This function summarizes all product results.\n",
        "    The value of the summ function is the determinant value.\n",
        "    \"\"\"               \n",
        "    det = sum(det)\n",
        "    return det\n",
        "print('\\nThe determinant value: ',summ(multiplex(the_matrix)))    "
      ]
    }
  ],
  "metadata": {
    "colab": {
      "collapsed_sections": [],
      "name": "Practice_7_KM-01_.ipynb",
      "provenance": []
    },
    "interpreter": {
      "hash": "903eae84df325481011326a84c7e049dcf8308d3c6ebb71cecc0ab28cde42f0d"
    },
    "kernelspec": {
      "display_name": "Python 3.9.7 32-bit ('test-env': conda)",
      "name": "python3"
    },
    "language_info": {
      "codemirror_mode": {
        "name": "ipython",
        "version": 3
      },
      "file_extension": ".py",
      "mimetype": "text/x-python",
      "name": "python",
      "nbconvert_exporter": "python",
      "pygments_lexer": "ipython3",
      "version": "3.9.7"
    }
  },
  "nbformat": 4,
  "nbformat_minor": 0
}
