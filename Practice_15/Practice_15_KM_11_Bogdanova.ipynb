{
  "cells": [
    {
      "cell_type": "markdown",
      "metadata": {
        "id": "FMqboNwO4rVs"
      },
      "source": [
        "# **Курс \"Програмування на мові Python\"**"
      ]
    },
    {
      "cell_type": "markdown",
      "metadata": {
        "id": "A2T6MigL5Z06"
      },
      "source": [
        "## **Практичне зайняття №15**\n",
        "\n",
        "### Тема: \"Ітератори та генератори\""
      ]
    },
    {
      "cell_type": "markdown",
      "metadata": {
        "id": "cfCdgK2zXm7e"
      },
      "source": [
        "### **Завдання 1 (2 бали)**\n",
        "\n",
        "Розрахуйте коефієнти розкладу [біному Ньютона](https://uk.wikipedia.org/wiki/%D0%91%D1%96%D0%BD%D0%BE%D0%BC_%D0%9D%D1%8C%D1%8E%D1%82%D0%BE%D0%BD%D0%B0) за допомогою генератора.\n",
        "\n",
        "1. Степінь многочлена користувач має вводити з клавіатури (невід'ємне ціле число).\n",
        "\n",
        "2. Програма має підраховувати біноміальні коефіцієнти для біномів усіх степенів, починаючи від 0 і закінчуючи тим, який ввів користувач.\n",
        "\n",
        "3. Коефіцієнти мають виводитись у вигляді трикутника Паскаля.\n",
        "\n",
        "Наприклад, якщо користувач введе число 5, програма має вивести результат:\n",
        "\n",
        "1\n",
        "\n",
        "1 1\n",
        "\n",
        "1 2 1\n",
        "\n",
        "1 3 3 1\n",
        "\n",
        "1 4 6 4 1\n",
        "\n",
        "1 5 10 10 5 1\n"
      ]
    },
    {
      "cell_type": "code",
      "execution_count": 2,
      "metadata": {
        "id": "Bku8v9CjE_Qc"
      },
      "outputs": [
        {
          "name": "stdout",
          "output_type": "stream",
          "text": [
            "1 \n",
            "1 1 \n",
            "1 2 1 \n",
            "1 3 3 1 \n",
            "1 4 6 4 1 \n",
            "1 5 10 10 5 1 \n",
            "1 6 15 20 15 6 1 \n",
            "1 7 21 35 35 21 7 1 \n",
            "\n",
            "This is a Pascal's triangle for 7th power\n"
          ]
        }
      ],
      "source": [
        "start = 1\n",
        "while start ==1:\n",
        "    try:\n",
        "        n = int(input(\"Choose a power value: \"))\n",
        "        if n<0:\n",
        "            print(\"You should pick a positive number\")\n",
        "            start =1\n",
        "        elif n == 0:\n",
        "            print(1)\n",
        "            start =0\n",
        "        else:\n",
        "            def fac(x):\n",
        "                if x == 1:\n",
        "                    return x\n",
        "                else:\n",
        "                    return x*fac(x-1)\n",
        "                \n",
        "            def pascal_triangle(x):\n",
        "                for row in range(0,x+1):\n",
        "                    for column in range(0,row+1):\n",
        "                        if column == 0 or column-row==0:\n",
        "                            print(1,end=' ')\n",
        "                        else:\n",
        "                            binomial = fac(row)/(fac(column)*fac(row-column))\n",
        "                            print(int(binomial),end=' ')\n",
        "                    print()    \n",
        "                return f\"\\nThis is a Pascal's triangle for {n}th power\"\n",
        "            print(pascal_triangle(n))\n",
        "            start =0\n",
        "    except ValueError:\n",
        "        print('Try with integer')    \n"
      ]
    },
    {
      "cell_type": "markdown",
      "metadata": {},
      "source": [
        "### **Завдання 2 (1 бал)**\n",
        "\n",
        "Реалізуйте генератор колоди карт (52 штуки). Кожна карта подається у вигляді рядка типу \"*5 diamonds*\".\n",
        "\n",
        "1. 4 масті (diamonds, clubs, hearts, spades) та 13 значень карт мають зберігатись у двох окремих списках (кортежах).\n",
        "\n",
        "2. Значення від 2 до 10 мають гереруватись за допомогою функції range().\n",
        "\n",
        "3. Окрім чисел, у списку значень мають бути присутніми елементи 'A' (Ace - туз), 'J' (Jack - валет), 'Q' (Queen - дама) та 'K' (King - король).\n",
        "\n",
        "4. Карти мають виводитись у порядку від 'A' до 'K'. Порядок виведення мастей не має значення.\n",
        "\n",
        "    *Приклад:*\n",
        "\n",
        "    А diamonds\n",
        "\n",
        "    2 diamonds\n",
        "\n",
        "    ...\n",
        "\n",
        "    K diamonds\n",
        "\n",
        "    A clubs\n",
        "\n",
        "    ...\n",
        "\n",
        "5. Кожна наступна карта має виводитись за допомогою функції next().\n",
        "\n",
        "6. Виведення карт має завершуватись виключенням StopIteration."
      ]
    },
    {
      "cell_type": "code",
      "execution_count": 6,
      "metadata": {},
      "outputs": [
        {
          "name": "stdout",
          "output_type": "stream",
          "text": [
            "Ace diamonds\n",
            "2 diamonds\n",
            "3 diamonds\n",
            "4 diamonds\n",
            "5 diamonds\n",
            "6 diamonds\n",
            "7 diamonds\n",
            "8 diamonds\n",
            "9 diamonds\n",
            "10 diamonds\n",
            "Jack diamonds\n",
            "Queen diamonds\n",
            "King diamonds\n",
            "Ace clubs\n",
            "2 clubs\n"
          ]
        }
      ],
      "source": [
        "suits = ['diamonds','clubs','hearts','spades']\n",
        "ranks = ['Ace']+[i for i in range(2,11)]+['Jack','Queen','King']\n",
        "def card_gen(cards=0):\n",
        "    if cards<52:   \n",
        "        for a in range(4):\n",
        "            for j in range(13):\n",
        "                yield f'{ranks[j]} {suits[a]}'\n",
        "                cards+=1\n",
        "                \n",
        "gen = card_gen()                \n",
        "print(next(gen))   \n",
        "print(next(gen))  \n",
        "print(next(gen))               \n",
        "print(next(gen))   \n",
        "print(next(gen))  \n",
        "print(next(gen))  \n",
        "print(next(gen))   \n",
        "print(next(gen))    \n",
        "print(next(gen))   \n",
        "print(next(gen))  \n",
        "print(next(gen))               \n",
        "print(next(gen))   \n",
        "print(next(gen))\n",
        "print(next(gen))   \n",
        "print(next(gen))  \n"
      ]
    }
  ],
  "metadata": {
    "colab": {
      "collapsed_sections": [],
      "name": "Practice_10-11_KM_01_.ipynb",
      "provenance": []
    },
    "kernelspec": {
      "display_name": "Python 3",
      "name": "python3"
    },
    "language_info": {
      "codemirror_mode": {
        "name": "ipython",
        "version": 3
      },
      "file_extension": ".py",
      "mimetype": "text/x-python",
      "name": "python",
      "nbconvert_exporter": "python",
      "pygments_lexer": "ipython3",
      "version": "3.9.7"
    }
  },
  "nbformat": 4,
  "nbformat_minor": 0
}
