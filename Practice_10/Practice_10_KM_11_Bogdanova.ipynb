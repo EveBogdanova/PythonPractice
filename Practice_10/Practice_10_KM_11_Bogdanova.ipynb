{
  "cells": [
    {
      "cell_type": "markdown",
      "metadata": {
        "id": "FMqboNwO4rVs"
      },
      "source": [
        "# **Курс \"Програмування на мові Python\"**"
      ]
    },
    {
      "cell_type": "markdown",
      "metadata": {
        "id": "A2T6MigL5Z06"
      },
      "source": [
        "## **Практичне зайняття №10**\n",
        "\n",
        "### Тема: \"Лямбда-функції. Функції вищих порядків\""
      ]
    },
    {
      "cell_type": "markdown",
      "metadata": {
        "id": "cfCdgK2zXm7e"
      },
      "source": [
        "### **Завдання 1 (1 бал)**\n",
        "\n",
        "Продавець роздрібного товару влаштовує розпродаж. Для всіх товарів знижка однакова - 60%. Щоб вивісити нові цінники, продавець хоче скласти таблицю, в якій для кожного товару буде підрахована його нова вартість та сума знижки.\n",
        "\n",
        "Написати програму, яка буде генерувати таку таблицю. Вартість одиниць товарів до розпродажу подано у списку products_list. \n",
        "\n",
        "1. Для підрахунку невідомих значень повинні використовуватись вбудовані функції вищих порядків.\n",
        "\n",
        "2. Вартість з урахуванням знижки та суми знижок для кожного товару повинні зберігатись у двох окремих списках. Порядок товарів у нових списках повинен бути такий самий, як і в списку products_list.\n",
        "\n",
        "3. Кожне підраховане числове значення має бути округлене до сотих.\n",
        "\n",
        "4. Дані повинні виводитись у вигляді:\n",
        "\n",
        "**Discount table:**\n",
        "\n",
        "**29.25 11.7 17.55**\n",
        "\n",
        "**48.99 19.6 29.39**\n",
        "\n",
        "**...**\n",
        "\n",
        "\n",
        "products_list = [29.25, 48.99, 99.98, 124.65, 214.30, 543.90, 799.85]\n"
      ]
    },
    {
      "cell_type": "code",
      "execution_count": 1,
      "metadata": {
        "id": "ifNX2M7LXm7f"
      },
      "outputs": [
        {
          "name": "stdout",
          "output_type": "stream",
          "text": [
            "\n",
            " Discount table\n",
            "\n",
            " 29.25 11.7 17.55\n",
            "\n",
            " 48.99 19.6 29.39\n",
            "\n",
            " 99.98 39.99 59.99\n",
            "\n",
            " 124.65 49.86 74.79\n",
            "\n",
            " 214.3 85.72 128.58\n",
            "\n",
            " 543.9 217.56 326.34\n",
            "\n",
            " 799.85 319.94 479.91\n"
          ]
        }
      ],
      "source": [
        "products_list = [29.25, 48.99, 99.98, 124.65, 214.30, 543.90, 799.85]\n",
        "new_prices = list(map(lambda x: round(x*0.4,2), products_list))\n",
        "discount = list(map(lambda x,y: round(x-y,2), products_list,new_prices))\n",
        "print('\\n Discount table')\n",
        "for price in products_list:\n",
        "    ind = products_list.index(price)    \n",
        "    print('\\n',f'{products_list[ind]}',f'{new_prices[ind]}',f'{discount[ind]}')"
      ]
    },
    {
      "cell_type": "markdown",
      "metadata": {},
      "source": [
        "### **Завдання 2 (2 бали)**\n",
        "\n",
        "Зазвичай рік має 365 днів. Однак у високосні роки додається ще один день - 29 лютого. Правила визначення високосного року такі:\n",
        "\n",
        "- Будь-який рік, що ділиться на 400 - високосний.\n",
        "\n",
        "- З тих років, що залишились, будь-який рік, що ділиться на 100 - **не** високосний.\n",
        "\n",
        "- З тих років, що залишились, будь-який рік, що ділиться на 4 - високосний.\n",
        "\n",
        "- Усі інші роки, що залишились - **не** високосні.\n",
        "\n",
        "1) Створіть функцію, в якій за допомогою вбудованих функцій вищих порядків будуть визначатися високосні роки серед перелічених років у списку years. Створена функція має повертати список високосних років.\n",
        "\n",
        "2) Створіть функцію вищих порядків, яка прийматиме на вхід попередню функцію та визначатиме кількість днів у місяці. Також функція повинна приймати на вхід ще 2 параметри: ціле число від 1 до 12 (місяць) та рік, як ціле чотирицифрове число. Ці значення корисувач має вводити з клавіатури. Перевірку введених даних слід виконувати поза межами функцій."
      ]
    },
    {
      "cell_type": "code",
      "execution_count": 3,
      "metadata": {},
      "outputs": [
        {
          "name": "stdout",
          "output_type": "stream",
          "text": [
            "All leap years in the interval 1900-2020:  1904 1908 1912 1916 1920 1924 1928 1932 1936 1940 1944 1948 1952 1956 1960 1964 1968 1972 1976 1980 1984 1988 1992 1996 2000 2004 2008 2012 2016 2020\n",
            "In 1918 February has 28 days\n",
            "Thanks\n"
          ]
        }
      ],
      "source": [
        "import numpy as np\n",
        "\n",
        "years = np.arange(1900, 2020+1, 1)\n",
        "\n",
        "def leap_years(seq):\n",
        "    for x in seq:\n",
        "        leap_years_list = list(filter(lambda x: x % 400 == 0 or (x % 100 != 0 and x % 4 == 0),seq))\n",
        "    return leap_years_list       \n",
        "print('All leap years in the interval 1900-2020: ',' '.join(list(map(lambda x: str(x), leap_years(years)))))    \n",
        "\n",
        "def days(f,seq,month,year):\n",
        "    months = {1:'January', 2:'February',3:'March',4:'April',5:'May',6:'June',7:'July',8:'August',9:'September',10:'October',11:'November',12:'December'}\n",
        "    for year in years:\n",
        "        if year in f(seq) is True:\n",
        "            days_quantity = {1:'31 days',3:'31 days',5:'31 days',7:'31 days',8:'31 days',10:'31 days',12:'31 days', 4:'30 days',6:'30 days',9:'30 days',11:'30 days', 2:'29 days'}\n",
        "        else:\n",
        "            days_quantity = {1:'31 days',3:'31 days',5:'31 days',7:'31 days',8:'31 days',10:'31 days',12:'31 days', 4:'30 days',6:'30 days',9:'30 days',11:'30 days', 2:'28 days'} \n",
        "    return months.get(month),days_quantity.get(month)        \n",
        "inp = True\n",
        "while inp == True:\n",
        "    input_year = input('\\nEnter a year: ')\n",
        "    input_month = input('Enter a month: ')\n",
        "    try:\n",
        "        x = int(input_year)\n",
        "        y = int(input_month)    \n",
        "        if len(input_year) != 4:\n",
        "            print('! Try again ! \\nEnter a year between 1900 and 2020')\n",
        "            continue\n",
        "        elif input_year[0] in [1,2] == False:\n",
        "            print('! Try again ! \\nEnter a year between 1900 and 2020')\n",
        "            continue\n",
        "        elif y in range(1,13) == False:\n",
        "            print('! Try again ! \\nEnter a month number between 1 and 12: ')\n",
        "            continue\n",
        "        else:\n",
        "            s = days(leap_years,years,y,x)\n",
        "            print('In',f'{x}',f'{s[0]}','has',f'{s[1]}')    \n",
        "            if int(input('Press 0 to quit: ')) == 0:\n",
        "                print('Thanks')\n",
        "                inp = False\n",
        "            else:\n",
        "                inp = True \n",
        "    except ValueError:\n",
        "        print('! Enter a digit: ')\n",
        "        continue                        "
      ]
    }
  ],
  "metadata": {
    "colab": {
      "collapsed_sections": [],
      "name": "Practice_7_KM-01_.ipynb",
      "provenance": []
    },
    "interpreter": {
      "hash": "903eae84df325481011326a84c7e049dcf8308d3c6ebb71cecc0ab28cde42f0d"
    },
    "kernelspec": {
      "display_name": "Python 3.9.7 32-bit ('test-env': conda)",
      "name": "python3"
    },
    "language_info": {
      "codemirror_mode": {
        "name": "ipython",
        "version": 3
      },
      "file_extension": ".py",
      "mimetype": "text/x-python",
      "name": "python",
      "nbconvert_exporter": "python",
      "pygments_lexer": "ipython3",
      "version": "3.9.7"
    }
  },
  "nbformat": 4,
  "nbformat_minor": 0
}
